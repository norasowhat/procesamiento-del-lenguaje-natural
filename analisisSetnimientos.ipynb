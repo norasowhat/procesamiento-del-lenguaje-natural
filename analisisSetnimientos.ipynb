{
 "cells": [
  {
   "cell_type": "markdown",
   "id": "e888f3b8",
   "metadata": {},
   "source": [
    "------------------\n",
    "Análisis de sentimientos\n"
   ]
  },
  {
   "cell_type": "markdown",
   "id": "a1f24362",
   "metadata": {},
   "source": [
    "librería:\n"
   ]
  },
  {
   "cell_type": "code",
   "execution_count": 6,
   "id": "3fed92b8",
   "metadata": {},
   "outputs": [],
   "source": [
    "from nltk.sentiment import SentimentIntensityAnalyzer"
   ]
  },
  {
   "cell_type": "code",
   "execution_count": 7,
   "id": "a1fa9fb7",
   "metadata": {},
   "outputs": [],
   "source": [
    "sia=SentimentIntensityAnalyzer()"
   ]
  },
  {
   "cell_type": "code",
   "execution_count": 8,
   "id": "f0e8cb3b",
   "metadata": {},
   "outputs": [
    {
     "data": {
      "text/plain": [
       "0.862"
      ]
     },
     "execution_count": 8,
     "metadata": {},
     "output_type": "execute_result"
    }
   ],
   "source": [
    "review=\"I love this movie. It's absolutely amazing!\"\n",
    "score = sia.polarity_scores(review)\n",
    "score['compound']"
   ]
  },
  {
   "cell_type": "code",
   "execution_count": 9,
   "id": "b275ae60",
   "metadata": {},
   "outputs": [
    {
     "data": {
      "text/plain": [
       "-0.7425"
      ]
     },
     "execution_count": 9,
     "metadata": {},
     "output_type": "execute_result"
    }
   ],
   "source": [
    "review = \"I hate this movie. It's absolutely boring.\"\n",
    "score = sia.polarity_scores(review)\n",
    "score['compound']"
   ]
  },
  {
   "cell_type": "markdown",
   "id": "dbaa512a",
   "metadata": {},
   "source": [
    "función para clasificar sentimientos con base en palabras: "
   ]
  },
  {
   "cell_type": "code",
   "execution_count": 10,
   "id": "0552d42f",
   "metadata": {},
   "outputs": [],
   "source": [
    "def clasificar_sentimiento(text:str):\n",
    "    score = sia.polarity_scores(text)['compound']\n",
    "    if score >= .05:\n",
    "        return \"Positivo\"\n",
    "    elif score <= -.05:\n",
    "        return \"Negativo\"\n",
    "    else:\n",
    "        return \"Neutro\""
   ]
  },
  {
   "cell_type": "markdown",
   "id": "ff9af6b0",
   "metadata": {},
   "source": [
    "en uso:"
   ]
  },
  {
   "cell_type": "code",
   "execution_count": 11,
   "id": "4440eae8",
   "metadata": {},
   "outputs": [
    {
     "data": {
      "text/plain": [
       "'Negativo'"
      ]
     },
     "execution_count": 11,
     "metadata": {},
     "output_type": "execute_result"
    }
   ],
   "source": [
    "clasificar_sentimiento(review)"
   ]
  },
  {
   "cell_type": "code",
   "execution_count": 12,
   "id": "826ff946",
   "metadata": {},
   "outputs": [
    {
     "data": {
      "text/plain": [
       "'Positivo'"
      ]
     },
     "execution_count": 12,
     "metadata": {},
     "output_type": "execute_result"
    }
   ],
   "source": [
    "clasificar_sentimiento(\"Good Pretty Lovely\")"
   ]
  },
  {
   "cell_type": "code",
   "execution_count": 13,
   "id": "fbee5f34",
   "metadata": {},
   "outputs": [
    {
     "data": {
      "text/plain": [
       "'Negativo'"
      ]
     },
     "execution_count": 13,
     "metadata": {},
     "output_type": "execute_result"
    }
   ],
   "source": [
    "clasificar_sentimiento(\"Ugly Disgusting Terrible\")"
   ]
  },
  {
   "cell_type": "markdown",
   "id": "552a0a9f",
   "metadata": {},
   "source": [
    "------------\n",
    "Análisis de reviews de películas"
   ]
  },
  {
   "cell_type": "markdown",
   "id": "d2e1438b",
   "metadata": {},
   "source": [
    "librerías:"
   ]
  },
  {
   "cell_type": "code",
   "execution_count": 14,
   "id": "22a6aaab",
   "metadata": {},
   "outputs": [],
   "source": [
    "from nltk.corpus import movie_reviews"
   ]
  },
  {
   "cell_type": "markdown",
   "id": "2e1ee344",
   "metadata": {},
   "source": [
    "solo hay categorías positivas y negativas:"
   ]
  },
  {
   "cell_type": "code",
   "execution_count": 15,
   "id": "05c98663",
   "metadata": {},
   "outputs": [
    {
     "data": {
      "text/plain": [
       "['neg', 'pos']"
      ]
     },
     "execution_count": 15,
     "metadata": {},
     "output_type": "execute_result"
    }
   ],
   "source": [
    "movie_reviews.categories()"
   ]
  },
  {
   "cell_type": "markdown",
   "id": "94957dde",
   "metadata": {},
   "source": [
    "cantidad de reseñas positivas y negativas:"
   ]
  },
  {
   "cell_type": "code",
   "execution_count": 16,
   "id": "15612f50",
   "metadata": {},
   "outputs": [
    {
     "name": "stdout",
     "output_type": "stream",
     "text": [
      "Hay 1000 reseñas positivas\n",
      "Hay 1000 reseñas negativas\n"
     ]
    }
   ],
   "source": [
    "print(f\"Hay {len(movie_reviews.fileids(\"pos\"))} reseñas positivas\")\n",
    "print(f\"Hay {len(movie_reviews.fileids(\"neg\"))} reseñas negativas\")"
   ]
  },
  {
   "cell_type": "markdown",
   "id": "453142d4",
   "metadata": {},
   "source": [
    "¿cómo elegir x posición de todas las reseñas?"
   ]
  },
  {
   "cell_type": "markdown",
   "id": "c406ad97",
   "metadata": {},
   "source": [
    "la posición no. 20 POSITIVA (\"pos\")"
   ]
  },
  {
   "cell_type": "code",
   "execution_count": 17,
   "id": "8bda8b86",
   "metadata": {},
   "outputs": [
    {
     "name": "stdout",
     "output_type": "stream",
     "text": [
      "there's something about ben stiller that makes him a popular choice among casting directors these days . \n",
      "stiller currently has three projects in circulation , and what other actor can lay claim to that ? \n",
      "he's in \" there's something about mary , \" which i * still * haven't seen . \n",
      "and he's in the acerbic \" your friends & neighbors , \" playing a talkative , sexually-frustrated drama coach called jerri . \n",
      "now there's \" permanent midnight , \" in which stiller plays another jerry , this one a heroin-addicted television writer , last name stahl . \n",
      "there's also something about this industry that pushes bankable stars like stiller into doing drug-addiction pictures the minute they've proved themselves commercially . \n",
      "ewan mcgregor springs to mind who , after successful turns in \" emma \" and \" brassed off , \" received greater respect and admiration for his mind-blowing realization as renton in danny boyle's transatlantic junk-fest , \" trainspotting . \" \n",
      "the philosophy appears to be a simple one : if you want 'em to be taken seriously , make 'em do drugs . \n",
      " \" permanent midnight \" is based on the true life experiences of jerry stahl , a successful hollywood writer who , in the mid-eighties , had a $5 , 000-a-week job churning out plotlines for disposable tv sitcoms and a $6 , 000-a-week heroin habit . \n",
      "a habit , in stahl's own words , \" the size of utah . \" \n",
      "as stahl , stiller contributes a commanding performance . \n",
      "unlike \" trainspotting , \" which was successful in having it both ways by chronicling both the highs and the lows of heroin abuse , \" permanent midnight \" instead focuses on the concept of drug addiction as maintenance . \n",
      "one of the earliest observations in the film is a casual reference to \" naked lunch \" author william s . burroughs who , when asked why he shoots up first thing in the morning responds , \" so i can shave . \" \n",
      "stahl rarely appears to be puncturing veins for the thrill of it all in \" permanent midnight \" ; it's so he can talk to his mother on the phone , show up for work on time , even pay his bills . \n",
      "while the film itself occasionally wobbles around along with stahl , the writing ( adapted from stahl's autobiography by director david veloz ) is controlled and pointed . \n",
      " \" permanent midnight \" shows how stahl moved from new york to l . a . to--again in the author's words-- \" escape the drug scene \" ( yeah , right ) ; why he entered into a convenient marriage with a british tv exec ( elizabeth hurley , so impossibly polite you'd swear her single profanity was dubbed ) ; and that he conceived a child in between his random hirings and firings . \n",
      "stahl narrates all this in a motel bedroom to a sympathetic lover called kitty ( norristown's own maria bello ) with whom he spent some rehab time . \n",
      "janeane garofalo is wasted--and miscast--as a heavily-bespectacled hollywood talent agent who fails to get her hooks into the doped-up wordsmith , and that's stahl himself playing a jaded clinic counselor . \n",
      "stiller , unshaven ( burroughs take note ) and with lots of mascara around the eyes , has stahl stumble through the film looking like a train wreck but , to his credit , never once pushes his pill-popping , needle-jabbing performance over the top . \n",
      "the ubiquitous stiller is the reason to see \" permanent midnight \" ; a dark , comic , and strangely absorbing study of assisted living . \n",
      "\n"
     ]
    }
   ],
   "source": [
    "print(movie_reviews.raw(movie_reviews.fileids(\"pos\")[19]))"
   ]
  },
  {
   "cell_type": "markdown",
   "id": "bd952fff",
   "metadata": {},
   "source": [
    "procesar reseñas de películas (en este caso positivas):\n",
    "1. extrae el texto de la reseña\n",
    "2. clasifica el sentiemiento\n",
    "3. guarda el \"score\" se la reseña"
   ]
  },
  {
   "cell_type": "code",
   "execution_count": 18,
   "id": "70de1c37",
   "metadata": {},
   "outputs": [],
   "source": [
    "scores = []\n",
    "\n",
    "for i in range(len(movie_reviews.fileids(\"pos\"))):\n",
    "    review = movie_reviews.raw(movie_reviews.fileids(\"pos\")[i])\n",
    "    scores.append(clasificar_sentimiento(review))"
   ]
  },
  {
   "cell_type": "code",
   "execution_count": 20,
   "id": "7c16ab2b",
   "metadata": {},
   "outputs": [
    {
     "data": {
      "text/plain": [
       "array(['Negativo', 'Positivo', 'Positivo', 'Positivo', 'Negativo',\n",
       "       'Positivo', 'Negativo', 'Positivo', 'Positivo', 'Negativo',\n",
       "       'Positivo', 'Positivo', 'Positivo', 'Negativo', 'Positivo',\n",
       "       'Positivo', 'Positivo', 'Positivo', 'Positivo', 'Positivo',\n",
       "       'Positivo', 'Positivo', 'Positivo', 'Positivo', 'Positivo',\n",
       "       'Positivo', 'Positivo', 'Positivo', 'Negativo', 'Negativo',\n",
       "       'Positivo', 'Positivo', 'Positivo', 'Positivo', 'Positivo',\n",
       "       'Positivo', 'Positivo', 'Positivo', 'Positivo', 'Positivo',\n",
       "       'Positivo', 'Negativo', 'Positivo', 'Positivo', 'Positivo',\n",
       "       'Positivo', 'Negativo', 'Positivo', 'Positivo', 'Positivo',\n",
       "       'Negativo', 'Positivo', 'Positivo', 'Negativo', 'Positivo',\n",
       "       'Positivo', 'Positivo', 'Positivo', 'Positivo', 'Positivo',\n",
       "       'Positivo', 'Positivo', 'Positivo', 'Negativo', 'Positivo',\n",
       "       'Positivo', 'Positivo', 'Positivo', 'Positivo', 'Positivo',\n",
       "       'Positivo', 'Positivo', 'Positivo', 'Positivo', 'Negativo',\n",
       "       'Negativo', 'Positivo', 'Positivo', 'Positivo', 'Negativo',\n",
       "       'Negativo', 'Positivo', 'Positivo', 'Positivo', 'Positivo',\n",
       "       'Positivo', 'Negativo', 'Positivo', 'Positivo', 'Positivo',\n",
       "       'Positivo', 'Positivo', 'Negativo', 'Positivo', 'Positivo',\n",
       "       'Positivo', 'Positivo', 'Negativo', 'Negativo', 'Negativo',\n",
       "       'Positivo', 'Positivo', 'Positivo', 'Positivo', 'Positivo',\n",
       "       'Negativo', 'Negativo', 'Negativo', 'Positivo', 'Negativo',\n",
       "       'Positivo', 'Positivo', 'Negativo', 'Positivo', 'Positivo',\n",
       "       'Positivo', 'Positivo', 'Negativo', 'Negativo', 'Positivo',\n",
       "       'Positivo', 'Positivo', 'Negativo', 'Positivo', 'Positivo',\n",
       "       'Positivo', 'Negativo', 'Positivo', 'Positivo', 'Positivo',\n",
       "       'Positivo', 'Positivo', 'Positivo', 'Negativo', 'Positivo',\n",
       "       'Positivo', 'Positivo', 'Positivo', 'Positivo', 'Positivo',\n",
       "       'Positivo', 'Negativo', 'Positivo', 'Positivo', 'Positivo',\n",
       "       'Positivo', 'Negativo', 'Positivo', 'Positivo', 'Positivo',\n",
       "       'Positivo', 'Positivo', 'Positivo', 'Positivo', 'Positivo',\n",
       "       'Positivo', 'Positivo', 'Negativo', 'Positivo', 'Positivo',\n",
       "       'Positivo', 'Positivo', 'Negativo', 'Positivo', 'Positivo',\n",
       "       'Negativo', 'Positivo', 'Positivo', 'Positivo', 'Positivo',\n",
       "       'Positivo', 'Positivo', 'Negativo', 'Negativo', 'Positivo',\n",
       "       'Positivo', 'Positivo', 'Positivo', 'Positivo', 'Positivo',\n",
       "       'Positivo', 'Positivo', 'Positivo', 'Positivo', 'Positivo',\n",
       "       'Positivo', 'Positivo', 'Positivo', 'Negativo', 'Positivo',\n",
       "       'Positivo', 'Positivo', 'Positivo', 'Negativo', 'Positivo',\n",
       "       'Positivo', 'Positivo', 'Positivo', 'Positivo', 'Positivo',\n",
       "       'Positivo', 'Positivo', 'Negativo', 'Negativo', 'Positivo',\n",
       "       'Positivo', 'Positivo', 'Positivo', 'Positivo', 'Negativo',\n",
       "       'Positivo', 'Positivo', 'Positivo', 'Positivo', 'Positivo',\n",
       "       'Positivo', 'Positivo', 'Positivo', 'Positivo', 'Positivo',\n",
       "       'Positivo', 'Positivo', 'Negativo', 'Positivo', 'Positivo',\n",
       "       'Positivo', 'Positivo', 'Positivo', 'Positivo', 'Positivo',\n",
       "       'Positivo', 'Positivo', 'Positivo', 'Positivo', 'Positivo',\n",
       "       'Positivo', 'Positivo', 'Positivo', 'Positivo', 'Negativo',\n",
       "       'Positivo', 'Negativo', 'Negativo', 'Positivo', 'Positivo',\n",
       "       'Positivo', 'Positivo', 'Positivo', 'Positivo', 'Positivo',\n",
       "       'Negativo', 'Positivo', 'Negativo', 'Positivo', 'Positivo',\n",
       "       'Positivo', 'Positivo', 'Positivo', 'Positivo', 'Positivo',\n",
       "       'Positivo', 'Positivo', 'Positivo', 'Positivo', 'Positivo',\n",
       "       'Positivo', 'Positivo', 'Negativo', 'Positivo', 'Positivo',\n",
       "       'Negativo', 'Positivo', 'Positivo', 'Positivo', 'Positivo',\n",
       "       'Positivo', 'Positivo', 'Negativo', 'Positivo', 'Positivo',\n",
       "       'Negativo', 'Positivo', 'Positivo', 'Positivo', 'Positivo',\n",
       "       'Positivo', 'Positivo', 'Positivo', 'Positivo', 'Positivo',\n",
       "       'Positivo', 'Positivo', 'Positivo', 'Positivo', 'Positivo',\n",
       "       'Positivo', 'Positivo', 'Positivo', 'Positivo', 'Positivo',\n",
       "       'Positivo', 'Negativo', 'Negativo', 'Positivo', 'Positivo',\n",
       "       'Positivo', 'Positivo', 'Positivo', 'Positivo', 'Positivo',\n",
       "       'Positivo', 'Positivo', 'Positivo', 'Positivo', 'Positivo',\n",
       "       'Positivo', 'Positivo', 'Positivo', 'Negativo', 'Positivo',\n",
       "       'Positivo', 'Positivo', 'Positivo', 'Positivo', 'Positivo',\n",
       "       'Positivo', 'Negativo', 'Positivo', 'Positivo', 'Negativo',\n",
       "       'Positivo', 'Positivo', 'Positivo', 'Positivo', 'Positivo',\n",
       "       'Positivo', 'Negativo', 'Positivo', 'Positivo', 'Negativo',\n",
       "       'Positivo', 'Positivo', 'Negativo', 'Positivo', 'Positivo',\n",
       "       'Positivo', 'Negativo', 'Positivo', 'Positivo', 'Positivo',\n",
       "       'Positivo', 'Positivo', 'Positivo', 'Positivo', 'Negativo',\n",
       "       'Positivo', 'Negativo', 'Positivo', 'Positivo', 'Positivo',\n",
       "       'Positivo', 'Positivo', 'Positivo', 'Positivo', 'Positivo',\n",
       "       'Positivo', 'Positivo', 'Positivo', 'Positivo', 'Positivo',\n",
       "       'Positivo', 'Positivo', 'Positivo', 'Positivo', 'Positivo',\n",
       "       'Positivo', 'Positivo', 'Negativo', 'Positivo', 'Positivo',\n",
       "       'Positivo', 'Positivo', 'Neutro', 'Positivo', 'Positivo',\n",
       "       'Negativo', 'Positivo', 'Positivo', 'Positivo', 'Negativo',\n",
       "       'Positivo', 'Positivo', 'Negativo', 'Positivo', 'Positivo',\n",
       "       'Positivo', 'Positivo', 'Positivo', 'Positivo', 'Positivo',\n",
       "       'Positivo', 'Positivo', 'Positivo', 'Positivo', 'Positivo',\n",
       "       'Positivo', 'Positivo', 'Positivo', 'Positivo', 'Positivo',\n",
       "       'Positivo', 'Positivo', 'Positivo', 'Positivo', 'Positivo',\n",
       "       'Positivo', 'Positivo', 'Positivo', 'Negativo', 'Positivo',\n",
       "       'Positivo', 'Positivo', 'Positivo', 'Positivo', 'Positivo',\n",
       "       'Positivo', 'Positivo', 'Positivo', 'Positivo', 'Positivo',\n",
       "       'Negativo', 'Negativo', 'Negativo', 'Positivo', 'Positivo',\n",
       "       'Positivo', 'Positivo', 'Negativo', 'Negativo', 'Positivo',\n",
       "       'Positivo', 'Positivo', 'Negativo', 'Positivo', 'Positivo',\n",
       "       'Negativo', 'Negativo', 'Positivo', 'Positivo', 'Positivo',\n",
       "       'Positivo', 'Positivo', 'Positivo', 'Positivo', 'Positivo',\n",
       "       'Negativo', 'Positivo', 'Negativo', 'Positivo', 'Negativo',\n",
       "       'Positivo', 'Positivo', 'Positivo', 'Positivo', 'Positivo',\n",
       "       'Positivo', 'Positivo', 'Positivo', 'Positivo', 'Positivo',\n",
       "       'Positivo', 'Positivo', 'Positivo', 'Positivo', 'Positivo',\n",
       "       'Positivo', 'Positivo', 'Positivo', 'Positivo', 'Negativo',\n",
       "       'Positivo', 'Negativo', 'Positivo', 'Positivo', 'Positivo',\n",
       "       'Positivo', 'Positivo', 'Positivo', 'Positivo', 'Negativo',\n",
       "       'Positivo', 'Positivo', 'Positivo', 'Positivo', 'Positivo',\n",
       "       'Positivo', 'Positivo', 'Positivo', 'Negativo', 'Positivo',\n",
       "       'Positivo', 'Positivo', 'Negativo', 'Positivo', 'Positivo',\n",
       "       'Negativo', 'Positivo', 'Negativo', 'Positivo', 'Positivo',\n",
       "       'Positivo', 'Positivo', 'Positivo', 'Positivo', 'Positivo',\n",
       "       'Positivo', 'Positivo', 'Positivo', 'Positivo', 'Positivo',\n",
       "       'Positivo', 'Positivo', 'Positivo', 'Positivo', 'Negativo',\n",
       "       'Positivo', 'Positivo', 'Negativo', 'Positivo', 'Positivo',\n",
       "       'Positivo', 'Positivo', 'Negativo', 'Positivo', 'Negativo',\n",
       "       'Positivo', 'Positivo', 'Negativo', 'Positivo', 'Positivo',\n",
       "       'Negativo', 'Positivo', 'Positivo', 'Positivo', 'Negativo',\n",
       "       'Positivo', 'Positivo', 'Positivo', 'Negativo', 'Positivo',\n",
       "       'Positivo', 'Positivo', 'Positivo', 'Positivo', 'Positivo',\n",
       "       'Positivo', 'Positivo', 'Positivo', 'Positivo', 'Positivo',\n",
       "       'Positivo', 'Positivo', 'Positivo', 'Positivo', 'Positivo',\n",
       "       'Positivo', 'Positivo', 'Positivo', 'Positivo', 'Positivo',\n",
       "       'Negativo', 'Positivo', 'Positivo', 'Positivo', 'Positivo',\n",
       "       'Positivo', 'Positivo', 'Positivo', 'Positivo', 'Positivo',\n",
       "       'Negativo', 'Positivo', 'Positivo', 'Positivo', 'Negativo',\n",
       "       'Positivo', 'Positivo', 'Positivo', 'Positivo', 'Positivo',\n",
       "       'Negativo', 'Negativo', 'Negativo', 'Positivo', 'Positivo',\n",
       "       'Negativo', 'Positivo', 'Positivo', 'Positivo', 'Positivo',\n",
       "       'Negativo', 'Positivo', 'Negativo', 'Positivo', 'Positivo',\n",
       "       'Positivo', 'Positivo', 'Positivo', 'Positivo', 'Positivo',\n",
       "       'Positivo', 'Positivo', 'Negativo', 'Positivo', 'Positivo',\n",
       "       'Positivo', 'Positivo', 'Positivo', 'Positivo', 'Positivo',\n",
       "       'Positivo', 'Positivo', 'Positivo', 'Positivo', 'Positivo',\n",
       "       'Positivo', 'Negativo', 'Positivo', 'Positivo', 'Positivo',\n",
       "       'Positivo', 'Positivo', 'Positivo', 'Positivo', 'Positivo',\n",
       "       'Positivo', 'Negativo', 'Positivo', 'Negativo', 'Positivo',\n",
       "       'Positivo', 'Negativo', 'Positivo', 'Positivo', 'Positivo',\n",
       "       'Positivo', 'Positivo', 'Positivo', 'Positivo', 'Negativo',\n",
       "       'Negativo', 'Negativo', 'Negativo', 'Positivo', 'Positivo',\n",
       "       'Positivo', 'Positivo', 'Positivo', 'Positivo', 'Positivo',\n",
       "       'Positivo', 'Positivo', 'Positivo', 'Positivo', 'Positivo',\n",
       "       'Negativo', 'Positivo', 'Positivo', 'Positivo', 'Positivo',\n",
       "       'Positivo', 'Positivo', 'Positivo', 'Positivo', 'Positivo',\n",
       "       'Positivo', 'Positivo', 'Positivo', 'Positivo', 'Positivo',\n",
       "       'Positivo', 'Positivo', 'Positivo', 'Positivo', 'Positivo',\n",
       "       'Negativo', 'Negativo', 'Positivo', 'Positivo', 'Positivo',\n",
       "       'Positivo', 'Positivo', 'Positivo', 'Positivo', 'Positivo',\n",
       "       'Positivo', 'Negativo', 'Positivo', 'Negativo', 'Negativo',\n",
       "       'Positivo', 'Positivo', 'Positivo', 'Positivo', 'Positivo',\n",
       "       'Positivo', 'Positivo', 'Positivo', 'Positivo', 'Negativo',\n",
       "       'Positivo', 'Negativo', 'Negativo', 'Positivo', 'Positivo',\n",
       "       'Positivo', 'Negativo', 'Positivo', 'Positivo', 'Negativo',\n",
       "       'Positivo', 'Positivo', 'Negativo', 'Positivo', 'Positivo',\n",
       "       'Positivo', 'Positivo', 'Positivo', 'Positivo', 'Positivo',\n",
       "       'Positivo', 'Negativo', 'Positivo', 'Positivo', 'Positivo',\n",
       "       'Positivo', 'Negativo', 'Positivo', 'Positivo', 'Positivo',\n",
       "       'Positivo', 'Positivo', 'Positivo', 'Positivo', 'Positivo',\n",
       "       'Positivo', 'Negativo', 'Negativo', 'Positivo', 'Positivo',\n",
       "       'Positivo', 'Positivo', 'Positivo', 'Positivo', 'Positivo',\n",
       "       'Positivo', 'Positivo', 'Negativo', 'Positivo', 'Positivo',\n",
       "       'Positivo', 'Positivo', 'Positivo', 'Positivo', 'Positivo',\n",
       "       'Negativo', 'Positivo', 'Positivo', 'Positivo', 'Negativo',\n",
       "       'Positivo', 'Negativo', 'Positivo', 'Positivo', 'Negativo',\n",
       "       'Positivo', 'Positivo', 'Positivo', 'Positivo', 'Positivo',\n",
       "       'Positivo', 'Negativo', 'Positivo', 'Positivo', 'Positivo',\n",
       "       'Positivo', 'Negativo', 'Positivo', 'Positivo', 'Positivo',\n",
       "       'Positivo', 'Positivo', 'Positivo', 'Negativo', 'Positivo',\n",
       "       'Positivo', 'Positivo', 'Negativo', 'Negativo', 'Positivo',\n",
       "       'Positivo', 'Positivo', 'Positivo', 'Positivo', 'Positivo',\n",
       "       'Positivo', 'Positivo', 'Positivo', 'Negativo', 'Positivo',\n",
       "       'Positivo', 'Positivo', 'Positivo', 'Positivo', 'Positivo',\n",
       "       'Positivo', 'Positivo', 'Positivo', 'Positivo', 'Positivo',\n",
       "       'Positivo', 'Positivo', 'Positivo', 'Negativo', 'Negativo',\n",
       "       'Negativo', 'Positivo', 'Positivo', 'Positivo', 'Positivo',\n",
       "       'Positivo', 'Negativo', 'Negativo', 'Positivo', 'Positivo',\n",
       "       'Positivo', 'Positivo', 'Positivo', 'Negativo', 'Positivo',\n",
       "       'Positivo', 'Positivo', 'Positivo', 'Positivo', 'Negativo',\n",
       "       'Positivo', 'Negativo', 'Positivo', 'Positivo', 'Positivo',\n",
       "       'Positivo', 'Positivo', 'Positivo', 'Positivo', 'Positivo',\n",
       "       'Positivo', 'Positivo', 'Negativo', 'Negativo', 'Positivo',\n",
       "       'Negativo', 'Negativo', 'Positivo', 'Positivo', 'Positivo',\n",
       "       'Positivo', 'Positivo', 'Positivo', 'Positivo', 'Negativo',\n",
       "       'Positivo', 'Positivo', 'Positivo', 'Positivo', 'Negativo',\n",
       "       'Positivo', 'Positivo', 'Positivo', 'Negativo', 'Positivo',\n",
       "       'Positivo', 'Positivo', 'Negativo', 'Positivo', 'Positivo',\n",
       "       'Positivo', 'Positivo', 'Positivo', 'Positivo', 'Positivo',\n",
       "       'Negativo', 'Negativo', 'Positivo', 'Positivo', 'Positivo',\n",
       "       'Positivo', 'Positivo', 'Positivo', 'Positivo', 'Positivo',\n",
       "       'Positivo', 'Negativo', 'Positivo', 'Positivo', 'Positivo',\n",
       "       'Negativo', 'Positivo', 'Positivo', 'Positivo', 'Negativo',\n",
       "       'Positivo', 'Positivo', 'Negativo', 'Positivo', 'Positivo',\n",
       "       'Positivo', 'Positivo', 'Positivo', 'Positivo', 'Positivo',\n",
       "       'Positivo', 'Positivo', 'Positivo', 'Positivo', 'Positivo',\n",
       "       'Positivo', 'Negativo', 'Positivo', 'Positivo', 'Negativo',\n",
       "       'Positivo', 'Positivo', 'Positivo', 'Positivo', 'Negativo',\n",
       "       'Positivo', 'Negativo', 'Positivo', 'Positivo', 'Negativo',\n",
       "       'Positivo', 'Positivo', 'Negativo', 'Positivo', 'Positivo',\n",
       "       'Positivo', 'Positivo', 'Positivo', 'Positivo', 'Positivo',\n",
       "       'Positivo', 'Positivo', 'Positivo', 'Positivo', 'Positivo',\n",
       "       'Positivo', 'Positivo', 'Positivo', 'Positivo', 'Positivo',\n",
       "       'Negativo', 'Positivo', 'Positivo', 'Positivo', 'Positivo',\n",
       "       'Positivo', 'Positivo', 'Positivo', 'Positivo', 'Positivo',\n",
       "       'Positivo', 'Positivo', 'Positivo', 'Positivo', 'Positivo',\n",
       "       'Positivo', 'Positivo', 'Positivo', 'Negativo', 'Positivo',\n",
       "       'Positivo', 'Negativo', 'Positivo', 'Positivo', 'Positivo',\n",
       "       'Positivo', 'Positivo', 'Positivo', 'Positivo', 'Positivo',\n",
       "       'Positivo', 'Positivo', 'Positivo', 'Positivo', 'Positivo',\n",
       "       'Positivo', 'Negativo', 'Negativo', 'Positivo', 'Positivo'],\n",
       "      dtype='<U8')"
      ]
     },
     "execution_count": 20,
     "metadata": {},
     "output_type": "execute_result"
    }
   ],
   "source": [
    "import numpy as np\n",
    "\n",
    "scores = np.array(scores)\n",
    "\n",
    "scores"
   ]
  },
  {
   "cell_type": "markdown",
   "id": "f253dd99",
   "metadata": {},
   "source": [
    "tipos de scores: \n",
    "1. positivo\n",
    "2. negativo \n",
    "3. neutral"
   ]
  },
  {
   "cell_type": "code",
   "execution_count": 21,
   "id": "b0f579e2",
   "metadata": {},
   "outputs": [
    {
     "data": {
      "text/plain": [
       "array(['Negativo', 'Neutro', 'Positivo'], dtype='<U8')"
      ]
     },
     "execution_count": 21,
     "metadata": {},
     "output_type": "execute_result"
    }
   ],
   "source": [
    "np.unique(scores)"
   ]
  },
  {
   "cell_type": "markdown",
   "id": "5586f60a",
   "metadata": {},
   "source": [
    "primera reseña positiva a la que la función clasificar_sentimiento le asigna valor neutro e imprime la reseña"
   ]
  },
  {
   "cell_type": "code",
   "execution_count": 22,
   "id": "9d605cf0",
   "metadata": {},
   "outputs": [
    {
     "name": "stdout",
     "output_type": "stream",
     "text": [
      "pulp fiction , quentin tarantino's anxiously awaited and superb follow-up to reservoir dogs , is absolutely and without a doubt progressing as one of the most talked about , loved , and hated films of all-time . \n",
      "in all fairness , it should be noted that those who love this film greatly outnumber those who hate it . \n",
      "as if reservoir dogs wasn't perfect , tarantino went ahead and improved on perfection by creating pulp fiction , a fast-paced , hard talking , roller coaster ride of a movie that combines violence and extraordinary dialogue in a seemingly perfect way . \n",
      "every major character in this film is represented by a terrific acting performance by the actor . \n",
      "to begin with , the two hit men : vincent vega ( john travolta ) and jules winnfield ( samuel l . jackson ) . \n",
      "these two characters work together perfectly , and the performances by each actor are nearly perfect . \n",
      "travolta , in fact , is still trying to get out of the vincent vega role . \n",
      "if these two characters were not enough , there's the struggling boxer butch coolidge ( bruce willis ) , the two small-time criminals pumpkin ( tim roth ) and honey bunny ( amanda plummer ) , the big man in charge marsellus wallace ( ving rhames ) and his attractive young wife mia ( uma thurman ) , and the \" problem solver \" himself , the wolf ( harvey keitel ) . \n",
      "these are just the major characters . \n",
      "smaller roles , but equally terrific , are handed to jimmie ( quentin tarantino ) , a young married man who gets caught up in some serious gangster business , lance ( eric stoltz ) , the far-out drug dealer , as well as maynard ( duane whitaker ) and zed ( peter greene ) , two hillbillies who are the men \" behind \" ( no pun intended for those of you who have seen this ) a very disturbing scene towards the end of the film . \n",
      "the film interweaves three stories that , at first , seem to be nothing alike but later prove to be very critical to each other . \n",
      "the film begins with pumpkin and honey bunny in a small coffee shop discussing their recent robberies and hold-ups . \n",
      "the two quickly decide to hold up the coffee shop , unknowing of what lies ahead . \n",
      "after this , the film focuses for some time on vincent and jules and their hit man lifestyle . \n",
      "utilizing the films unforgettable dialogue , the two men discuss such things as hamburgers and foot massages before they bust into an apartment to terrorize the occupants . \n",
      "the two men were sent to the apartment to recover a mysterious briefcase for their boss , marsellus wallace . \n",
      "after basically toying with the men , especially the unfortunate brett ( frank whaley ) , vincent and jules complete their mission and recover the briefcase . \n",
      "this is not before a man jumps out from a bathroom with a . 357 \n",
      " \" hand cannon \" , shooting at the two gangsters . \n",
      "he somehow completely misses them , leading jules to cite divine intervention . \n",
      "this is also the basis for more of the now-famous tarantino dialogue . \n",
      "the film then shifts to focus on boxer butch coolidge and his boxing escapades . \n",
      "butch was ordered to take a fall in his latest fight , but when he does not , marsellus vows to find him , wherever he is , and make sure that butch is not able to enjoy his new fortune . \n",
      "vincent , meanwhile , has the honor of taking marsellus' wife , mia , out on a date while the big man is out of town . \n",
      "vincent , obviously , is rather nervous about this , especially after hearing the tale about a man who was thrown out of a window for supposedly giving mia a foot massage . \n",
      "after their date , which seems to rather smoothly , things take a turn for the worst at the hands of vincent's high-priced heroin , dubbed a \" monster \" by lance . \n",
      "each story continually progresses , and new and amazing events occur . \n",
      "eventually , the stories all meet each other in the end , with pumpkin and honey bunny holding up the restaurant , which happens to contain both vincent and jules . \n",
      "pulp fiction is definitely one of the best films of the decade , and possibly of all-time . \n",
      "along with its superb dialogue , action , writing , directing , and acting , this film will not only latch onto you , but it proves that it does not want to release you until it has sunk its claws completely into you . \n",
      "and with most fans of this movie , this is proved to be a rather easy task , although at times the graphic images , violence , and language may seem a bit overpowering . \n",
      "surely , quentin tarantino's fame was greatly escalated by this film , and he proves not to be one who will fade from existence very soon . \n",
      "\n"
     ]
    }
   ],
   "source": [
    "idx = np.where(scores == \"Neutro\")[0].item()\n",
    "\n",
    "print(movie_reviews.raw(movie_reviews.fileids(\"pos\")[idx]))"
   ]
  }
 ],
 "metadata": {
  "kernelspec": {
   "display_name": "NLP25",
   "language": "python",
   "name": "python3"
  },
  "language_info": {
   "codemirror_mode": {
    "name": "ipython",
    "version": 3
   },
   "file_extension": ".py",
   "mimetype": "text/x-python",
   "name": "python",
   "nbconvert_exporter": "python",
   "pygments_lexer": "ipython3",
   "version": "3.13.6"
  }
 },
 "nbformat": 4,
 "nbformat_minor": 5
}
