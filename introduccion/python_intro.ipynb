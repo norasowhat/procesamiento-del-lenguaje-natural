{
 "cells": [
  {
   "cell_type": "markdown",
   "id": "4bd20ed0",
   "metadata": {},
   "source": [
    "# Show Output\n",
    "---"
   ]
  },
  {
   "cell_type": "code",
   "execution_count": null,
   "id": "231d66ce",
   "metadata": {},
   "outputs": [
    {
     "name": "stdout",
     "output_type": "stream",
     "text": [
      "Hola Mundo\n"
     ]
    }
   ],
   "source": [
    "print(\"Hola Mundo\")"
   ]
  },
  {
   "cell_type": "markdown",
   "id": "fbdfbfe5",
   "metadata": {},
   "source": [
    "# Data Types\n",
    "---"
   ]
  },
  {
   "cell_type": "markdown",
   "id": "0e10452d",
   "metadata": {},
   "source": [
    "### Immutable types\n",
    "Objects that cannot be modified after they are created. Any \"change\" you make actually creates a **new object in memory**."
   ]
  },
  {
   "cell_type": "code",
   "execution_count": null,
   "id": "58779f03",
   "metadata": {},
   "outputs": [],
   "source": [
    "example_int = 1\n",
    "example_float = 2.1\n",
    "example_bool = True\n",
    "example_str = \"Hello\"\n",
    "example_tuple = (1, 2.1,  \"Hello\", True, (1, 1), [1, 2], {\"key\": \"value\"}, {\"apple\", \"banana\"}) # Accepts all data types"
   ]
  },
  {
   "cell_type": "code",
   "execution_count": null,
   "id": "be6bc0dc",
   "metadata": {},
   "outputs": [
    {
     "name": "stdout",
     "output_type": "stream",
     "text": [
      "Variable Name: example_int | Output: 1 | Type:<class 'int'>\n",
      "Variable Name: example_float | Output: 2.1 | Type:<class 'float'>\n",
      "Variable Name: example_bool | Output: True | Type:<class 'bool'>\n",
      "Variable Name: example_str | Output: Hello | Type:<class 'str'>\n",
      "Variable Name: example_tuple | Output: (1, 2.1, 'Hello', True, (1, 1), [1, 2], {'key': 'value'}, {'apple', 'banana'}) | Type:<class 'tuple'>\n"
     ]
    }
   ],
   "source": [
    "# Output inmutables\n",
    "print(f\"Variable Name: example_int | Output: {example_int} | Type:{type(example_int)}\")\n",
    "print(f\"Variable Name: example_float | Output: {example_float} | Type:{type(example_float)}\")\n",
    "print(f\"Variable Name: example_bool | Output: {example_bool} | Type:{type(example_bool)}\")\n",
    "print(f\"Variable Name: example_str | Output: {example_str} | Type:{type(example_str)}\")\n",
    "print(f\"Variable Name: example_tuple | Output: {example_tuple} | Type:{type(example_tuple)}\")"
   ]
  },
  {
   "cell_type": "markdown",
   "id": "af68ae07",
   "metadata": {},
   "source": [
    "### Mutable types\n",
    "**Can be modified in place** without a new object in memory."
   ]
  },
  {
   "cell_type": "code",
   "execution_count": null,
   "id": "935dd937",
   "metadata": {},
   "outputs": [],
   "source": [
    "example_list = [1, 2.1,  \"Hello\", True, (1, 1), [1, 2], {\"key\": \"value\"}, {\"apple\", \"banana\"}] # Accepts all data types\n",
    "example_dict = { # It only accepts immutable types as keys\n",
    "    \"key\": \"value\",\n",
    "    1: (\"tuple\", \"values\"),\n",
    "    2.1: [\"list\", \"values\"],\n",
    "    (1, 2): {\"set\", \"values\"}\n",
    "}\n",
    "example_set = {1, 1.1,  \"Hello\", (1, 2), True} # Does't accepts mutable data types: list, dict, or set."
   ]
  },
  {
   "cell_type": "markdown",
   "id": "c8895881",
   "metadata": {},
   "source": [
    "#### Convert from str to int"
   ]
  },
  {
   "cell_type": "code",
   "execution_count": null,
   "id": "6bfeea4a",
   "metadata": {},
   "outputs": [],
   "source": [
    "str_num = \"100\"\n",
    "int_num = int(str_num)"
   ]
  },
  {
   "cell_type": "code",
   "execution_count": null,
   "id": "c4f22eef",
   "metadata": {},
   "outputs": [
    {
     "name": "stdout",
     "output_type": "stream",
     "text": [
      "<class 'str'>\n",
      "<class 'int'>\n"
     ]
    }
   ],
   "source": [
    "print(type(str_num))\n",
    "print(type(int_num))"
   ]
  },
  {
   "cell_type": "markdown",
   "id": "69f8cd2f",
   "metadata": {},
   "source": [
    "## Lists"
   ]
  },
  {
   "cell_type": "code",
   "execution_count": null,
   "id": "ae9c2d78",
   "metadata": {},
   "outputs": [
    {
     "data": {
      "text/plain": [
       "list"
      ]
     },
     "metadata": {},
     "output_type": "display_data"
    }
   ],
   "source": [
    "example_list_2 = [] # Empty list\n",
    "type(example_list_2)"
   ]
  },
  {
   "cell_type": "code",
   "execution_count": null,
   "id": "3f83a4bb",
   "metadata": {},
   "outputs": [
    {
     "data": {
      "text/plain": [
       "[1]"
      ]
     },
     "metadata": {},
     "output_type": "display_data"
    }
   ],
   "source": [
    "# .append() Only takes one argument, the value to append\n",
    "example_list_2.append(1) # Appends the value to the last position of the list\n",
    "example_list_2"
   ]
  },
  {
   "cell_type": "code",
   "execution_count": null,
   "id": "2c92bfd3",
   "metadata": {},
   "outputs": [
    {
     "data": {
      "text/plain": [
       "[1, 3.14]"
      ]
     },
     "metadata": {},
     "output_type": "display_data"
    }
   ],
   "source": [
    "example_list_2.append(3.14) \n",
    "example_list_2"
   ]
  },
  {
   "cell_type": "code",
   "execution_count": null,
   "id": "23c5dd39",
   "metadata": {},
   "outputs": [
    {
     "data": {
      "text/plain": [
       "[1, 3.14, 'Hello']"
      ]
     },
     "metadata": {},
     "output_type": "display_data"
    }
   ],
   "source": [
    "example_list_2.append(\"Hello\")\n",
    "example_list_2"
   ]
  },
  {
   "cell_type": "code",
   "execution_count": null,
   "id": "42b29f01",
   "metadata": {},
   "outputs": [
    {
     "data": {
      "text/plain": [
       "[1, 3.14, 'Hello', True]"
      ]
     },
     "metadata": {},
     "output_type": "display_data"
    }
   ],
   "source": [
    "example_list_2.append(True)\n",
    "example_list_2"
   ]
  },
  {
   "cell_type": "code",
   "execution_count": null,
   "id": "a00fd9eb",
   "metadata": {},
   "outputs": [
    {
     "data": {
      "text/plain": [
       "[1, 3.14, 'Hello', True, []]"
      ]
     },
     "metadata": {},
     "output_type": "display_data"
    }
   ],
   "source": [
    "example_list_2.append([]) # All data types can be appended to a list\n",
    "example_list_2"
   ]
  },
  {
   "cell_type": "markdown",
   "id": "7dcec943",
   "metadata": {},
   "source": [
    "### Indexing\n",
    "Python is zero-indexed. This means the index values **starts at 0**."
   ]
  },
  {
   "cell_type": "code",
   "execution_count": null,
   "id": "567dce28",
   "metadata": {},
   "outputs": [
    {
     "data": {
      "text/plain": [
       "[1, 3.14, 'Hello', True, []]"
      ]
     },
     "metadata": {},
     "output_type": "display_data"
    }
   ],
   "source": [
    "example_list_2"
   ]
  },
  {
   "cell_type": "code",
   "execution_count": null,
   "id": "ad830534",
   "metadata": {},
   "outputs": [
    {
     "data": {
      "text/plain": [
       "'Hello'"
      ]
     },
     "metadata": {},
     "output_type": "display_data"
    }
   ],
   "source": [
    "example_list_2[2]"
   ]
  },
  {
   "cell_type": "code",
   "execution_count": 36,
   "id": "2ef37df7",
   "metadata": {},
   "outputs": [
    {
     "data": {
      "text/plain": [
       "True"
      ]
     },
     "execution_count": 36,
     "metadata": {},
     "output_type": "execute_result"
    }
   ],
   "source": [
    "example_list_2[-2] # Acces to the last element of the list. The \"-\" symbols indicates a backwards index"
   ]
  },
  {
   "cell_type": "code",
   "execution_count": 50,
   "id": "ae43be41",
   "metadata": {},
   "outputs": [
    {
     "data": {
      "text/plain": [
       "[1, 3.14, 'Hello', False, []]"
      ]
     },
     "execution_count": 50,
     "metadata": {},
     "output_type": "execute_result"
    }
   ],
   "source": [
    "example_list_2[3] = False # You can assign a new value to an already existing item in the list \n",
    "example_list_2"
   ]
  },
  {
   "cell_type": "markdown",
   "id": "c9c2f95c",
   "metadata": {},
   "source": [
    "### Slicing\n",
    "Slicing allows you to extract **subsections of sequences** (like strings, lists, or tuples) using the syntax:\n",
    "\n",
    "``sequence[start:stop:step]``\n",
    "\n",
    "- **start** → Index where the slice begins (inclusive). Defaults to 0.\n",
    "    \n",
    "- **stop** → Index where the slice ends (exclusive). Defaults to the length of the sequence.\n",
    "    \n",
    "- **step** → Interval between elements. Defaults to 1.\n",
    "\n",
    "> **NOTE:** The slice stop index is not included in the result."
   ]
  },
  {
   "cell_type": "code",
   "execution_count": null,
   "id": "0a786456",
   "metadata": {},
   "outputs": [
    {
     "data": {
      "text/plain": [
       "[1, 3.14, 'Hello', True, []]"
      ]
     },
     "metadata": {},
     "output_type": "display_data"
    }
   ],
   "source": [
    "example_list_2"
   ]
  },
  {
   "cell_type": "code",
   "execution_count": 33,
   "id": "177f002d",
   "metadata": {},
   "outputs": [
    {
     "data": {
      "text/plain": [
       "[3.14, 'Hello', True, []]"
      ]
     },
     "execution_count": 33,
     "metadata": {},
     "output_type": "execute_result"
    }
   ],
   "source": [
    "example_list_2[1:4] # From index 1 to 4"
   ]
  },
  {
   "cell_type": "code",
   "execution_count": null,
   "id": "bcb854b5",
   "metadata": {},
   "outputs": [
    {
     "data": {
      "text/plain": [
       "[1, 3.14, 'Hello']"
      ]
     },
     "metadata": {},
     "output_type": "display_data"
    }
   ],
   "source": [
    "example_list_2[:3] # From start (default to 0) to index 3"
   ]
  },
  {
   "cell_type": "code",
   "execution_count": 28,
   "id": "4c6dba9b",
   "metadata": {},
   "outputs": [
    {
     "data": {
      "text/plain": [
       "['Hello', True, []]"
      ]
     },
     "execution_count": 28,
     "metadata": {},
     "output_type": "execute_result"
    }
   ],
   "source": [
    "example_list_2[2:] # From index 2 to end"
   ]
  },
  {
   "cell_type": "code",
   "execution_count": 30,
   "id": "d3abbfc1",
   "metadata": {},
   "outputs": [
    {
     "data": {
      "text/plain": [
       "[1, 'Hello', []]"
      ]
     },
     "execution_count": 30,
     "metadata": {},
     "output_type": "execute_result"
    }
   ],
   "source": [
    "example_list_2[::2] # Takes every second character"
   ]
  },
  {
   "cell_type": "code",
   "execution_count": 32,
   "id": "7ce2beb7",
   "metadata": {},
   "outputs": [
    {
     "data": {
      "text/plain": [
       "[[], True, 'Hello', 3.14, 1]"
      ]
     },
     "execution_count": 32,
     "metadata": {},
     "output_type": "execute_result"
    }
   ],
   "source": [
    "example_list_2[::-1] # Reversed list"
   ]
  },
  {
   "cell_type": "code",
   "execution_count": 34,
   "id": "1d7daa66",
   "metadata": {},
   "outputs": [
    {
     "data": {
      "text/plain": [
       "[3.14, 'Hello', True, []]"
      ]
     },
     "execution_count": 34,
     "metadata": {},
     "output_type": "execute_result"
    }
   ],
   "source": [
    "example_list_2[1:100] # Slicing never rises an error for out-of-range index"
   ]
  },
  {
   "cell_type": "markdown",
   "id": "83322177",
   "metadata": {},
   "source": [
    "### Tuples\n",
    "Is an ordered **collection of elements**, very similar to a list. The main difference is that **tuples are inmutable**. Once you create them, you **cannot change, add, or remove elements**.\n",
    "\n",
    "❌ They do not have methods like ``.append()`` or ``.pop()``"
   ]
  },
  {
   "cell_type": "code",
   "execution_count": 44,
   "id": "341844b3",
   "metadata": {},
   "outputs": [
    {
     "name": "stdout",
     "output_type": "stream",
     "text": [
      "<class 'list'>\n",
      "<class 'tuple'>\n"
     ]
    }
   ],
   "source": [
    "example_list_3 = [1, 2, 3, 4, 5]\n",
    "example_tuple_2 = (tuple(example_list_3))\n",
    "print(type(example_list_3))\n",
    "print(type(example_tuple_2))"
   ]
  },
  {
   "cell_type": "code",
   "execution_count": 42,
   "id": "7e4d16d2",
   "metadata": {},
   "outputs": [
    {
     "data": {
      "text/plain": [
       "tuple"
      ]
     },
     "execution_count": 42,
     "metadata": {},
     "output_type": "execute_result"
    }
   ],
   "source": [
    "type(())"
   ]
  },
  {
   "cell_type": "code",
   "execution_count": 43,
   "id": "713c4b78",
   "metadata": {},
   "outputs": [
    {
     "data": {
      "text/plain": [
       "int"
      ]
     },
     "execution_count": 43,
     "metadata": {},
     "output_type": "execute_result"
    }
   ],
   "source": [
    "type(1) # Considered as an int"
   ]
  },
  {
   "cell_type": "code",
   "execution_count": null,
   "id": "bab4da42",
   "metadata": {},
   "outputs": [],
   "source": [
    "type(1,) # With the comma the element is considered as a tuple"
   ]
  },
  {
   "cell_type": "code",
   "execution_count": 48,
   "id": "7ab5437b",
   "metadata": {},
   "outputs": [
    {
     "data": {
      "text/plain": [
       "5"
      ]
     },
     "execution_count": 48,
     "metadata": {},
     "output_type": "execute_result"
    }
   ],
   "source": [
    "len(example_tuple_2) # Returns the number of items in an object."
   ]
  },
  {
   "cell_type": "markdown",
   "id": "6ccf5163",
   "metadata": {},
   "source": [
    "## Dictionaries\n",
    "It is a data type that stores **key-value pairs**. Unlike lists or tuples, which are indexed by position (0, 1, 2...), dictionaries are indexed by **unique keys**."
   ]
  },
  {
   "cell_type": "code",
   "execution_count": 51,
   "id": "f88dabdb",
   "metadata": {},
   "outputs": [
    {
     "data": {
      "text/plain": [
       "dict"
      ]
     },
     "execution_count": 51,
     "metadata": {},
     "output_type": "execute_result"
    }
   ],
   "source": [
    "type({})"
   ]
  },
  {
   "cell_type": "code",
   "execution_count": 53,
   "id": "8d0cc1e8",
   "metadata": {},
   "outputs": [
    {
     "data": {
      "text/plain": [
       "set"
      ]
     },
     "execution_count": 53,
     "metadata": {},
     "output_type": "execute_result"
    }
   ],
   "source": [
    "type({1, 2, 3}) # It needs it key values to become a dictionary"
   ]
  },
  {
   "cell_type": "code",
   "execution_count": 55,
   "id": "5235a78f",
   "metadata": {},
   "outputs": [
    {
     "data": {
      "text/plain": [
       "dict"
      ]
     },
     "execution_count": 55,
     "metadata": {},
     "output_type": "execute_result"
    }
   ],
   "source": [
    "example_dict_2 = {\"employee\" : \"Juan\"}\n",
    "type(example_dict_2)"
   ]
  },
  {
   "cell_type": "code",
   "execution_count": 59,
   "id": "1470a762",
   "metadata": {},
   "outputs": [
    {
     "data": {
      "text/plain": [
       "dict"
      ]
     },
     "execution_count": 59,
     "metadata": {},
     "output_type": "execute_result"
    }
   ],
   "source": [
    "example_dict_3 = {\n",
    "    \"Names\" : [\"Juan\", \"Pedro\", \"Miguel\"],\n",
    "    \"Last Names\": [\"Hernandez\", \"Perez\", \"Jimenez\"],\n",
    "    \"Age\" : [28, 20, 30]\n",
    "}\n",
    "type(example_dict_3)"
   ]
  },
  {
   "cell_type": "code",
   "execution_count": 57,
   "id": "d482aaa7",
   "metadata": {},
   "outputs": [
    {
     "data": {
      "text/plain": [
       "['Juan', 'Pedro', 'Miguel']"
      ]
     },
     "execution_count": 57,
     "metadata": {},
     "output_type": "execute_result"
    }
   ],
   "source": [
    "example_dict_3[\"Names\"] # To acces the values you need to use the correct key"
   ]
  },
  {
   "cell_type": "code",
   "execution_count": 60,
   "id": "5e5ef7c3",
   "metadata": {},
   "outputs": [
    {
     "data": {
      "text/plain": [
       "{'Names': ['Juan', 'Pedro', 'Miguel'],\n",
       " 'Last Names': ['Hernandez', 'Perez', 'Jimenez'],\n",
       " 'Age': [28, 20, 30]}"
      ]
     },
     "execution_count": 60,
     "metadata": {},
     "output_type": "execute_result"
    }
   ],
   "source": [
    "example_dict_3"
   ]
  },
  {
   "cell_type": "code",
   "execution_count": 61,
   "id": "8d8897bb",
   "metadata": {},
   "outputs": [
    {
     "data": {
      "text/plain": [
       "dict_values([['Juan', 'Pedro', 'Miguel'], ['Hernandez', 'Perez', 'Jimenez'], [28, 20, 30]])"
      ]
     },
     "execution_count": 61,
     "metadata": {},
     "output_type": "execute_result"
    }
   ],
   "source": [
    "example_dict_3.values() # Returns all the values inside the dict"
   ]
  },
  {
   "cell_type": "code",
   "execution_count": 63,
   "id": "0643ba67",
   "metadata": {},
   "outputs": [
    {
     "data": {
      "text/plain": [
       "dict_keys"
      ]
     },
     "execution_count": 63,
     "metadata": {},
     "output_type": "execute_result"
    }
   ],
   "source": [
    "example_dict_3.keys() # Returns all the keys inside the dict"
   ]
  },
  {
   "cell_type": "code",
   "execution_count": 67,
   "id": "e2dd70ee",
   "metadata": {},
   "outputs": [
    {
     "data": {
      "text/plain": [
       "dict_items([('Names', ['Juan', 'Pedro', 'Miguel']), ('Last Names', ['Hernandez', 'Perez', 'Jimenez']), ('Age', [28, 20, 30])])"
      ]
     },
     "execution_count": 67,
     "metadata": {},
     "output_type": "execute_result"
    }
   ],
   "source": [
    "example_dict_3.items() # Returns all key-value pairs as tuples"
   ]
  },
  {
   "cell_type": "markdown",
   "id": "1a3baede",
   "metadata": {},
   "source": [
    "#### Printing the key and values in a tuple"
   ]
  },
  {
   "cell_type": "code",
   "execution_count": 68,
   "id": "cc9d0418",
   "metadata": {},
   "outputs": [
    {
     "name": "stdout",
     "output_type": "stream",
     "text": [
      "The key 'Names' has the following value(s): ['Juan', 'Pedro', 'Miguel']\n",
      "The key 'Last Names' has the following value(s): ['Hernandez', 'Perez', 'Jimenez']\n",
      "The key 'Age' has the following value(s): [28, 20, 30]\n"
     ]
    }
   ],
   "source": [
    "for key, value in example_dict_3.items():\n",
    "    print(f\"The key '{key}' has the following value(s): {value}\")"
   ]
  },
  {
   "cell_type": "markdown",
   "id": "d474f7a6",
   "metadata": {},
   "source": [
    "## Arithmetic Operations\n",
    "They are the basic mathematical operators you can use with numbers (integers, floats, etc.)."
   ]
  },
  {
   "cell_type": "code",
   "execution_count": 71,
   "id": "e9d712da",
   "metadata": {},
   "outputs": [
    {
     "data": {
      "text/plain": [
       "13"
      ]
     },
     "execution_count": 71,
     "metadata": {},
     "output_type": "execute_result"
    }
   ],
   "source": [
    "# Addition\n",
    "result = 5 + 8\n",
    "result"
   ]
  },
  {
   "cell_type": "code",
   "execution_count": 72,
   "id": "d4ec7f6d",
   "metadata": {},
   "outputs": [
    {
     "data": {
      "text/plain": [
       "6"
      ]
     },
     "execution_count": 72,
     "metadata": {},
     "output_type": "execute_result"
    }
   ],
   "source": [
    "# Substraction\n",
    "result = 10 - 4\n",
    "result"
   ]
  },
  {
   "cell_type": "code",
   "execution_count": 73,
   "id": "46cc142e",
   "metadata": {},
   "outputs": [
    {
     "data": {
      "text/plain": [
       "30"
      ]
     },
     "execution_count": 73,
     "metadata": {},
     "output_type": "execute_result"
    }
   ],
   "source": [
    "# Multiplication\n",
    "result = 6 * 5\n",
    "result"
   ]
  },
  {
   "cell_type": "code",
   "execution_count": 74,
   "id": "c88b306a",
   "metadata": {},
   "outputs": [
    {
     "data": {
      "text/plain": [
       "42"
      ]
     },
     "execution_count": 74,
     "metadata": {},
     "output_type": "execute_result"
    }
   ],
   "source": [
    "# Division\n",
    "result = 6 * 7\n",
    "result"
   ]
  },
  {
   "cell_type": "code",
   "execution_count": 75,
   "id": "ca89fe19",
   "metadata": {},
   "outputs": [
    {
     "data": {
      "text/plain": [
       "2"
      ]
     },
     "execution_count": 75,
     "metadata": {},
     "output_type": "execute_result"
    }
   ],
   "source": [
    "# Floor division (Divides and rounds to the nearest integer)\n",
    "result = 7 // 3\n",
    "result"
   ]
  },
  {
   "cell_type": "code",
   "execution_count": 76,
   "id": "2ef49064",
   "metadata": {},
   "outputs": [
    {
     "data": {
      "text/plain": [
       "1"
      ]
     },
     "execution_count": 76,
     "metadata": {},
     "output_type": "execute_result"
    }
   ],
   "source": [
    "# Modulus (Returns the reminder of a division)\n",
    "result = 10 % 3\n",
    "result"
   ]
  },
  {
   "cell_type": "code",
   "execution_count": 77,
   "id": "c2ebd044",
   "metadata": {},
   "outputs": [
    {
     "data": {
      "text/plain": [
       "8"
      ]
     },
     "execution_count": 77,
     "metadata": {},
     "output_type": "execute_result"
    }
   ],
   "source": [
    "# Exponentiation (Raises the nuber to the power of another)\n",
    "result = 2 ** 3\n",
    "result"
   ]
  },
  {
   "cell_type": "code",
   "execution_count": 78,
   "id": "480bbc2d",
   "metadata": {},
   "outputs": [
    {
     "data": {
      "text/plain": [
       "7.0"
      ]
     },
     "execution_count": 78,
     "metadata": {},
     "output_type": "execute_result"
    }
   ],
   "source": [
    "# Arithmetic operations follow the order of operations\n",
    "5+3*(2/3)"
   ]
  }
 ],
 "metadata": {
  "language_info": {
   "name": "python"
  }
 },
 "nbformat": 4,
 "nbformat_minor": 5
}
