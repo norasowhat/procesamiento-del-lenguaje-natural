{
  "cells": [
    {
      "cell_type": "code",
      "execution_count": 1,
      "metadata": {
        "colab": {
          "base_uri": "https://localhost:8080/"
        },
        "id": "beA98Fe9Vb-C",
        "outputId": "95e10acf-2e2c-4c7c-dc54-537f2394e880"
      },
      "outputs": [
        {
          "name": "stdout",
          "output_type": "stream",
          "text": [
            "Hola mundo\n"
          ]
        }
      ],
      "source": [
        "print(\"Hola mundo\")"
      ]
    },
    {
      "cell_type": "code",
      "execution_count": 2,
      "metadata": {
        "id": "5DPGkS3vWV1M"
      },
      "outputs": [],
      "source": [
        "entero = 10\n",
        "lista = [1, 1, 1, 1]\n",
        "booleano = True"
      ]
    },
    {
      "cell_type": "code",
      "execution_count": 3,
      "metadata": {
        "colab": {
          "base_uri": "https://localhost:8080/"
        },
        "id": "Oxo4vmeIXsLg",
        "outputId": "a28788e5-a326-43c3-a716-27aca5ae62e6"
      },
      "outputs": [
        {
          "name": "stdout",
          "output_type": "stream",
          "text": [
            "10\n",
            "[1, 1, 1, 1]\n",
            "True\n"
          ]
        }
      ],
      "source": [
        "print(entero)\n",
        "print(lista)\n",
        "print(booleano)"
      ]
    },
    {
      "cell_type": "code",
      "execution_count": 4,
      "metadata": {
        "colab": {
          "base_uri": "https://localhost:8080/"
        },
        "id": "LyrbewI9Xvsu",
        "outputId": "28379a6e-524a-4da4-c80d-fbf7870a1006"
      },
      "outputs": [
        {
          "data": {
            "text/plain": [
              "int"
            ]
          },
          "execution_count": 4,
          "metadata": {},
          "output_type": "execute_result"
        }
      ],
      "source": [
        "type(entero)"
      ]
    },
    {
      "cell_type": "code",
      "execution_count": 5,
      "metadata": {
        "colab": {
          "base_uri": "https://localhost:8080/"
        },
        "id": "XlOh_lSIYDeT",
        "outputId": "d5c6becb-5529-42c6-ef53-0ad8cf937bb7"
      },
      "outputs": [
        {
          "data": {
            "text/plain": [
              "list"
            ]
          },
          "execution_count": 5,
          "metadata": {},
          "output_type": "execute_result"
        }
      ],
      "source": [
        "type(lista)"
      ]
    },
    {
      "cell_type": "code",
      "execution_count": 6,
      "metadata": {
        "id": "eSEwXVA0YFzx"
      },
      "outputs": [],
      "source": [
        "# Convertir string a entero\n",
        "\n",
        "strNum = \"100\"\n",
        "intNum = int(strNum)"
      ]
    },
    {
      "cell_type": "code",
      "execution_count": 7,
      "metadata": {
        "colab": {
          "base_uri": "https://localhost:8080/"
        },
        "id": "vp9s5DfNYccF",
        "outputId": "96109699-7967-402a-cba4-188940b47608"
      },
      "outputs": [
        {
          "name": "stdout",
          "output_type": "stream",
          "text": [
            "<class 'str'>\n",
            "<class 'int'>\n"
          ]
        }
      ],
      "source": [
        "print(type(strNum))\n",
        "print(type(intNum))"
      ]
    },
    {
      "cell_type": "markdown",
      "metadata": {
        "id": "h0Mq6B7KYrvQ"
      },
      "source": [
        "# 1\n",
        "## 1.1\n",
        "### 1.1.1\n",
        "#### 1.1.1.1\n",
        "---\n",
        "Listas, tuplas, diccionarios"
      ]
    },
    {
      "cell_type": "code",
      "execution_count": 8,
      "metadata": {
        "colab": {
          "base_uri": "https://localhost:8080/"
        },
        "id": "_PWajQY7YjE4",
        "outputId": "cedbe558-5b8c-4664-e4c6-a733e86d2ce4"
      },
      "outputs": [
        {
          "data": {
            "text/plain": [
              "list"
            ]
          },
          "execution_count": 8,
          "metadata": {},
          "output_type": "execute_result"
        }
      ],
      "source": [
        "# Listas\n",
        "\n",
        "lista2 = []\n",
        "type(lista2)"
      ]
    },
    {
      "cell_type": "code",
      "execution_count": 9,
      "metadata": {
        "colab": {
          "base_uri": "https://localhost:8080/"
        },
        "id": "CeZFF4eIZeQI",
        "outputId": "900c6aa3-f384-4c9e-9e7d-9ce10db23c1c"
      },
      "outputs": [
        {
          "data": {
            "text/plain": [
              "[1]"
            ]
          },
          "execution_count": 9,
          "metadata": {},
          "output_type": "execute_result"
        }
      ],
      "source": [
        "lista2.append(1)\n",
        "lista2"
      ]
    },
    {
      "cell_type": "code",
      "execution_count": 10,
      "metadata": {
        "colab": {
          "base_uri": "https://localhost:8080/"
        },
        "id": "P-5dPgLQZnoX",
        "outputId": "443946aa-0ce2-4a1e-f573-c582a8123450"
      },
      "outputs": [
        {
          "data": {
            "text/plain": [
              "[1, 3.14151926]"
            ]
          },
          "execution_count": 10,
          "metadata": {},
          "output_type": "execute_result"
        }
      ],
      "source": [
        "lista2.append(3.14151926)\n",
        "lista2"
      ]
    },
    {
      "cell_type": "code",
      "execution_count": 11,
      "metadata": {
        "colab": {
          "base_uri": "https://localhost:8080/"
        },
        "id": "XimoW1I6Z4Wq",
        "outputId": "8b257e2e-6d98-4a50-b38b-21494acdc18a"
      },
      "outputs": [
        {
          "data": {
            "text/plain": [
              "[1, 3.14151926, 'Hola']"
            ]
          },
          "execution_count": 11,
          "metadata": {},
          "output_type": "execute_result"
        }
      ],
      "source": [
        "lista2.append(\"Hola\")\n",
        "lista2"
      ]
    },
    {
      "cell_type": "code",
      "execution_count": 12,
      "metadata": {
        "colab": {
          "base_uri": "https://localhost:8080/"
        },
        "id": "FhiUyOFOZ6m5",
        "outputId": "38d0cec2-abbe-40b3-f68f-70f5edf04bb3"
      },
      "outputs": [
        {
          "data": {
            "text/plain": [
              "[1, 3.14151926, 'Hola', True]"
            ]
          },
          "execution_count": 12,
          "metadata": {},
          "output_type": "execute_result"
        }
      ],
      "source": [
        "lista2.append(True)\n",
        "lista2"
      ]
    },
    {
      "cell_type": "code",
      "execution_count": 13,
      "metadata": {
        "colab": {
          "base_uri": "https://localhost:8080/"
        },
        "id": "fds7m0waZ8Ni",
        "outputId": "2bc137c8-d8fc-4457-b9dd-a65a8b7601aa"
      },
      "outputs": [
        {
          "data": {
            "text/plain": [
              "[1, 3.14151926, 'Hola', True, []]"
            ]
          },
          "execution_count": 13,
          "metadata": {},
          "output_type": "execute_result"
        }
      ],
      "source": [
        "lista2.append([])\n",
        "lista2"
      ]
    },
    {
      "cell_type": "code",
      "execution_count": 14,
      "metadata": {
        "colab": {
          "base_uri": "https://localhost:8080/"
        },
        "id": "FAncu1HRZ-dM",
        "outputId": "023dee0d-02eb-4daf-817f-bbb34469a627"
      },
      "outputs": [
        {
          "ename": "IndexError",
          "evalue": "list index out of range",
          "output_type": "error",
          "traceback": [
            "\u001b[31m---------------------------------------------------------------------------\u001b[39m",
            "\u001b[31mIndexError\u001b[39m                                Traceback (most recent call last)",
            "\u001b[36mCell\u001b[39m\u001b[36m \u001b[39m\u001b[32mIn[14]\u001b[39m\u001b[32m, line 2\u001b[39m\n\u001b[32m      1\u001b[39m \u001b[38;5;66;03m# Indexing (zero-indexed)\u001b[39;00m\n\u001b[32m----> \u001b[39m\u001b[32m2\u001b[39m \u001b[43mlista2\u001b[49m\u001b[43m[\u001b[49m\u001b[32;43m6\u001b[39;49m\u001b[43m]\u001b[49m\n",
            "\u001b[31mIndexError\u001b[39m: list index out of range"
          ]
        }
      ],
      "source": [
        "# Indexing (zero-indexed)\n",
        "lista2[6]"
      ]
    },
    {
      "cell_type": "code",
      "execution_count": 15,
      "metadata": {
        "colab": {
          "base_uri": "https://localhost:8080/"
        },
        "id": "6MB7-VzhaCQw",
        "outputId": "b4c91aba-b811-4768-8594-8bae9140b51e"
      },
      "outputs": [
        {
          "data": {
            "text/plain": [
              "[]"
            ]
          },
          "execution_count": 15,
          "metadata": {},
          "output_type": "execute_result"
        }
      ],
      "source": [
        "# Slicing  [)\n",
        "lista2[5:8]"
      ]
    },
    {
      "cell_type": "markdown",
      "metadata": {
        "id": "Y6BTdSOMbLR9"
      },
      "source": [
        "---\n",
        "### Tupla non-mutable list"
      ]
    },
    {
      "cell_type": "code",
      "execution_count": 16,
      "metadata": {
        "colab": {
          "base_uri": "https://localhost:8080/"
        },
        "id": "Bd7koQ75bFke",
        "outputId": "f4c33f23-b28a-497f-9a86-86be8109cf1f"
      },
      "outputs": [
        {
          "name": "stdout",
          "output_type": "stream",
          "text": [
            "<class 'list'>\n",
            "<class 'tuple'>\n"
          ]
        }
      ],
      "source": [
        "lista3 = [1, 2, 3]\n",
        "tupla1 = tuple(lista3)\n",
        "print(type(lista3))\n",
        "print(type(tupla1))"
      ]
    },
    {
      "cell_type": "code",
      "execution_count": 17,
      "metadata": {
        "colab": {
          "base_uri": "https://localhost:8080/"
        },
        "id": "Og317-MEbuv2",
        "outputId": "e3fbe04a-4253-439d-ccb5-c58c58f0d188"
      },
      "outputs": [
        {
          "name": "stdout",
          "output_type": "stream",
          "text": [
            "<class 'tuple'>\n",
            "<class 'list'>\n"
          ]
        }
      ],
      "source": [
        "tupla2 = (1, 2, 3)\n",
        "tuple2list = list(tupla2)\n",
        "print(type(tupla2))\n",
        "print(type(tuple2list))"
      ]
    },
    {
      "cell_type": "code",
      "execution_count": 18,
      "metadata": {
        "colab": {
          "base_uri": "https://localhost:8080/"
        },
        "id": "vQXIMLaGb_GY",
        "outputId": "c099abac-0f95-4134-b7bf-5f8fe059ff2d"
      },
      "outputs": [
        {
          "data": {
            "text/plain": [
              "tuple"
            ]
          },
          "execution_count": 18,
          "metadata": {},
          "output_type": "execute_result"
        }
      ],
      "source": [
        "type(())"
      ]
    },
    {
      "cell_type": "code",
      "execution_count": 19,
      "metadata": {
        "colab": {
          "base_uri": "https://localhost:8080/"
        },
        "id": "9jGYxymecJ7s",
        "outputId": "2355bc2e-a145-429a-9c2b-f19b190e6876"
      },
      "outputs": [
        {
          "data": {
            "text/plain": [
              "int"
            ]
          },
          "execution_count": 19,
          "metadata": {},
          "output_type": "execute_result"
        }
      ],
      "source": [
        "type((1))"
      ]
    },
    {
      "cell_type": "code",
      "execution_count": 20,
      "metadata": {
        "colab": {
          "base_uri": "https://localhost:8080/"
        },
        "id": "elCIn6FYcP4Z",
        "outputId": "d894a921-4d77-4984-fb30-afb0dbda8a99"
      },
      "outputs": [
        {
          "data": {
            "text/plain": [
              "tuple"
            ]
          },
          "execution_count": 20,
          "metadata": {},
          "output_type": "execute_result"
        }
      ],
      "source": [
        "type((1,))"
      ]
    },
    {
      "cell_type": "code",
      "execution_count": 21,
      "metadata": {
        "colab": {
          "base_uri": "https://localhost:8080/"
        },
        "id": "2lg9OvqrcWyD",
        "outputId": "2326ec68-adfe-4062-916d-21da19e84652"
      },
      "outputs": [
        {
          "data": {
            "text/plain": [
              "7.0"
            ]
          },
          "execution_count": 21,
          "metadata": {},
          "output_type": "execute_result"
        }
      ],
      "source": [
        "5+3*(2/3)"
      ]
    },
    {
      "cell_type": "code",
      "execution_count": 22,
      "metadata": {
        "id": "9e6Hwfrjcfyn"
      },
      "outputs": [],
      "source": [
        "tupla3 = (1, 2, 3, 4, 5)"
      ]
    },
    {
      "cell_type": "code",
      "execution_count": 23,
      "metadata": {
        "colab": {
          "base_uri": "https://localhost:8080/"
        },
        "id": "hocGB31GciUU",
        "outputId": "97e9786d-e24d-4de4-bf52-b8d4513db501"
      },
      "outputs": [
        {
          "data": {
            "text/plain": [
              "1"
            ]
          },
          "execution_count": 23,
          "metadata": {},
          "output_type": "execute_result"
        }
      ],
      "source": [
        "# Indexing\n",
        "\n",
        "tupla3[0]"
      ]
    },
    {
      "cell_type": "code",
      "execution_count": 24,
      "metadata": {
        "colab": {
          "base_uri": "https://localhost:8080/"
        },
        "id": "ZIBs16qdclxr",
        "outputId": "1f7b4e46-a1f5-420f-b250-bb3019d739f6"
      },
      "outputs": [
        {
          "data": {
            "text/plain": [
              "5"
            ]
          },
          "execution_count": 24,
          "metadata": {},
          "output_type": "execute_result"
        }
      ],
      "source": [
        "# Negative indexing\n",
        "tupla3[-1]"
      ]
    },
    {
      "cell_type": "code",
      "execution_count": 25,
      "metadata": {
        "colab": {
          "base_uri": "https://localhost:8080/"
        },
        "id": "yPMjtrGHcyIZ",
        "outputId": "1f3df5b6-0508-40fe-abd7-f83092186069"
      },
      "outputs": [
        {
          "data": {
            "text/plain": [
              "5"
            ]
          },
          "execution_count": 25,
          "metadata": {},
          "output_type": "execute_result"
        }
      ],
      "source": [
        "len(tupla3)"
      ]
    },
    {
      "cell_type": "code",
      "execution_count": 26,
      "metadata": {
        "colab": {
          "base_uri": "https://localhost:8080/"
        },
        "id": "wjemdAZuc3RF",
        "outputId": "8fdd4eae-a0ac-4c41-dca5-fbf27a9664c4"
      },
      "outputs": [
        {
          "data": {
            "text/plain": [
              "3"
            ]
          },
          "execution_count": 26,
          "metadata": {},
          "output_type": "execute_result"
        }
      ],
      "source": [
        "len(lista3)"
      ]
    },
    {
      "cell_type": "code",
      "execution_count": 27,
      "metadata": {
        "colab": {
          "base_uri": "https://localhost:8080/",
          "height": 141
        },
        "id": "g5YLg3Hlc5SU",
        "outputId": "f63bdf40-e909-4a96-9afc-251d8be17e43"
      },
      "outputs": [
        {
          "ename": "AttributeError",
          "evalue": "'tuple' object has no attribute 'append'",
          "output_type": "error",
          "traceback": [
            "\u001b[31m---------------------------------------------------------------------------\u001b[39m",
            "\u001b[31mAttributeError\u001b[39m                            Traceback (most recent call last)",
            "\u001b[36mCell\u001b[39m\u001b[36m \u001b[39m\u001b[32mIn[27]\u001b[39m\u001b[32m, line 1\u001b[39m\n\u001b[32m----> \u001b[39m\u001b[32m1\u001b[39m \u001b[43mtupla3\u001b[49m\u001b[43m.\u001b[49m\u001b[43mappend\u001b[49m(\u001b[32m12\u001b[39m)\n",
            "\u001b[31mAttributeError\u001b[39m: 'tuple' object has no attribute 'append'"
          ]
        }
      ],
      "source": [
        "tupla3.append(12)"
      ]
    },
    {
      "cell_type": "code",
      "execution_count": 28,
      "metadata": {
        "colab": {
          "base_uri": "https://localhost:8080/"
        },
        "id": "nLZpAElhdG3E",
        "outputId": "49a8de28-94bb-4efc-f2b0-9708c9228bac"
      },
      "outputs": [
        {
          "data": {
            "text/plain": [
              "['__add__',\n",
              " '__class__',\n",
              " '__class_getitem__',\n",
              " '__contains__',\n",
              " '__delattr__',\n",
              " '__dir__',\n",
              " '__doc__',\n",
              " '__eq__',\n",
              " '__format__',\n",
              " '__ge__',\n",
              " '__getattribute__',\n",
              " '__getitem__',\n",
              " '__getnewargs__',\n",
              " '__getstate__',\n",
              " '__gt__',\n",
              " '__hash__',\n",
              " '__init__',\n",
              " '__init_subclass__',\n",
              " '__iter__',\n",
              " '__le__',\n",
              " '__len__',\n",
              " '__lt__',\n",
              " '__mul__',\n",
              " '__ne__',\n",
              " '__new__',\n",
              " '__reduce__',\n",
              " '__reduce_ex__',\n",
              " '__repr__',\n",
              " '__rmul__',\n",
              " '__setattr__',\n",
              " '__sizeof__',\n",
              " '__str__',\n",
              " '__subclasshook__',\n",
              " 'count',\n",
              " 'index']"
            ]
          },
          "execution_count": 28,
          "metadata": {},
          "output_type": "execute_result"
        }
      ],
      "source": [
        "dir(())"
      ]
    },
    {
      "cell_type": "code",
      "execution_count": 29,
      "metadata": {
        "colab": {
          "base_uri": "https://localhost:8080/"
        },
        "id": "zLqgM7ptdJ65",
        "outputId": "8816e1b0-ca11-4fee-ddd0-2b5fa12db39c"
      },
      "outputs": [
        {
          "data": {
            "text/plain": [
              "[1, 2, 3]"
            ]
          },
          "execution_count": 29,
          "metadata": {},
          "output_type": "execute_result"
        }
      ],
      "source": [
        "lista3"
      ]
    },
    {
      "cell_type": "code",
      "execution_count": 30,
      "metadata": {
        "colab": {
          "base_uri": "https://localhost:8080/"
        },
        "id": "TZxIvsxfdXWR",
        "outputId": "9d658540-5dec-4ab1-9f68-3e2ccacc2ef6"
      },
      "outputs": [
        {
          "data": {
            "text/plain": [
              "[100, 2, 3]"
            ]
          },
          "execution_count": 30,
          "metadata": {},
          "output_type": "execute_result"
        }
      ],
      "source": [
        "lista3[0] = 100\n",
        "lista3"
      ]
    },
    {
      "cell_type": "code",
      "execution_count": 31,
      "metadata": {
        "colab": {
          "base_uri": "https://localhost:8080/"
        },
        "id": "J3tvf4Qcdapa",
        "outputId": "974cd9e3-54e4-4ba4-9671-3fe153d148a6"
      },
      "outputs": [
        {
          "data": {
            "text/plain": [
              "(1, 2, 3, 4, 5)"
            ]
          },
          "execution_count": 31,
          "metadata": {},
          "output_type": "execute_result"
        }
      ],
      "source": [
        "tupla3"
      ]
    },
    {
      "cell_type": "code",
      "execution_count": 32,
      "metadata": {
        "colab": {
          "base_uri": "https://localhost:8080/"
        },
        "id": "Cmajjy5jdfnK",
        "outputId": "354b3b1b-1f7b-4cf7-82f8-fb4afd9cc735"
      },
      "outputs": [
        {
          "data": {
            "text/plain": [
              "(100, 2, 3, 4, 5)"
            ]
          },
          "execution_count": 32,
          "metadata": {},
          "output_type": "execute_result"
        }
      ],
      "source": [
        "tupla3 = list(tupla3)\n",
        "tupla3[0] = 100\n",
        "tupla3 = tuple(tupla3)\n",
        "tupla3"
      ]
    },
    {
      "cell_type": "markdown",
      "metadata": {
        "id": "_eWzvqPjd9o4"
      },
      "source": [
        "## Diccionarios\n",
        "\n",
        "key-value"
      ]
    },
    {
      "cell_type": "code",
      "execution_count": 33,
      "metadata": {
        "colab": {
          "base_uri": "https://localhost:8080/"
        },
        "id": "GAESRCwEepJ4",
        "outputId": "23ef33e1-3049-4231-89d1-e84cfd4dcb6b"
      },
      "outputs": [
        {
          "data": {
            "text/plain": [
              "dict"
            ]
          },
          "execution_count": 33,
          "metadata": {},
          "output_type": "execute_result"
        }
      ],
      "source": [
        "type({})"
      ]
    },
    {
      "cell_type": "code",
      "execution_count": 34,
      "metadata": {
        "colab": {
          "base_uri": "https://localhost:8080/"
        },
        "id": "Cfq43YNnerj5",
        "outputId": "909f0314-a65c-40c2-e110-fbdc7f7528d5"
      },
      "outputs": [
        {
          "data": {
            "text/plain": [
              "set"
            ]
          },
          "execution_count": 34,
          "metadata": {},
          "output_type": "execute_result"
        }
      ],
      "source": [
        "type({1, 2, 3})"
      ]
    },
    {
      "cell_type": "code",
      "execution_count": 35,
      "metadata": {
        "id": "ZbqogtQkdiXb"
      },
      "outputs": [],
      "source": [
        "diccionario1 = {\"empleado1\": \"Miguel\"}"
      ]
    },
    {
      "cell_type": "code",
      "execution_count": 36,
      "metadata": {
        "colab": {
          "base_uri": "https://localhost:8080/"
        },
        "id": "ECM7zU27eZYw",
        "outputId": "dea66112-c806-44b8-b666-4a078e15e8f7"
      },
      "outputs": [
        {
          "data": {
            "text/plain": [
              "dict"
            ]
          },
          "execution_count": 36,
          "metadata": {},
          "output_type": "execute_result"
        }
      ],
      "source": [
        "type(diccionario1)"
      ]
    },
    {
      "cell_type": "code",
      "execution_count": 37,
      "metadata": {
        "id": "E8hN23M4e5vg"
      },
      "outputs": [],
      "source": [
        "diccionario2 = {\n",
        "    \"Nombres\" : [\"Miguel\", \"Fernando\", \"Juan\"],\n",
        "    \"Apellidos\" : [\"Camargo\", \"Flores\", \"Jiménez\"],\n",
        "    \"Edad\" : [28, 20, 30]\n",
        "}"
      ]
    },
    {
      "cell_type": "code",
      "execution_count": 38,
      "metadata": {
        "colab": {
          "base_uri": "https://localhost:8080/"
        },
        "id": "lX1-6QK3fVBa",
        "outputId": "0c65229c-0e15-4927-8b98-3630767e9ab8"
      },
      "outputs": [
        {
          "data": {
            "text/plain": [
              "dict"
            ]
          },
          "execution_count": 38,
          "metadata": {},
          "output_type": "execute_result"
        }
      ],
      "source": [
        "type(diccionario2)"
      ]
    },
    {
      "cell_type": "code",
      "execution_count": 39,
      "metadata": {
        "colab": {
          "base_uri": "https://localhost:8080/",
          "height": 141
        },
        "id": "EnFP1mHcfWd3",
        "outputId": "d3d5e781-c024-4cd9-8824-f5a09dbc0c03"
      },
      "outputs": [
        {
          "ename": "KeyError",
          "evalue": "0",
          "output_type": "error",
          "traceback": [
            "\u001b[31m---------------------------------------------------------------------------\u001b[39m",
            "\u001b[31mKeyError\u001b[39m                                  Traceback (most recent call last)",
            "\u001b[36mCell\u001b[39m\u001b[36m \u001b[39m\u001b[32mIn[39]\u001b[39m\u001b[32m, line 1\u001b[39m\n\u001b[32m----> \u001b[39m\u001b[32m1\u001b[39m \u001b[43mdiccionario2\u001b[49m\u001b[43m[\u001b[49m\u001b[32;43m0\u001b[39;49m\u001b[43m]\u001b[49m\n",
            "\u001b[31mKeyError\u001b[39m: 0"
          ]
        }
      ],
      "source": [
        "diccionario2[0]"
      ]
    },
    {
      "cell_type": "code",
      "execution_count": 40,
      "metadata": {
        "colab": {
          "base_uri": "https://localhost:8080/"
        },
        "id": "P370xejOfapF",
        "outputId": "ba76d99c-842a-4b83-a725-804b9a44fbf3"
      },
      "outputs": [
        {
          "data": {
            "text/plain": [
              "['Miguel', 'Fernando', 'Juan']"
            ]
          },
          "execution_count": 40,
          "metadata": {},
          "output_type": "execute_result"
        }
      ],
      "source": [
        "diccionario2[\"Nombres\"]"
      ]
    },
    {
      "cell_type": "code",
      "execution_count": 41,
      "metadata": {
        "colab": {
          "base_uri": "https://localhost:8080/"
        },
        "id": "rzwr_WOQflkR",
        "outputId": "9589f03e-8c9c-432e-e5a1-cdbdc01b1d67"
      },
      "outputs": [
        {
          "data": {
            "text/plain": [
              "['__class__',\n",
              " '__class_getitem__',\n",
              " '__contains__',\n",
              " '__delattr__',\n",
              " '__delitem__',\n",
              " '__dir__',\n",
              " '__doc__',\n",
              " '__eq__',\n",
              " '__format__',\n",
              " '__ge__',\n",
              " '__getattribute__',\n",
              " '__getitem__',\n",
              " '__getstate__',\n",
              " '__gt__',\n",
              " '__hash__',\n",
              " '__init__',\n",
              " '__init_subclass__',\n",
              " '__ior__',\n",
              " '__iter__',\n",
              " '__le__',\n",
              " '__len__',\n",
              " '__lt__',\n",
              " '__ne__',\n",
              " '__new__',\n",
              " '__or__',\n",
              " '__reduce__',\n",
              " '__reduce_ex__',\n",
              " '__repr__',\n",
              " '__reversed__',\n",
              " '__ror__',\n",
              " '__setattr__',\n",
              " '__setitem__',\n",
              " '__sizeof__',\n",
              " '__str__',\n",
              " '__subclasshook__',\n",
              " 'clear',\n",
              " 'copy',\n",
              " 'fromkeys',\n",
              " 'get',\n",
              " 'items',\n",
              " 'keys',\n",
              " 'pop',\n",
              " 'popitem',\n",
              " 'setdefault',\n",
              " 'update',\n",
              " 'values']"
            ]
          },
          "execution_count": 41,
          "metadata": {},
          "output_type": "execute_result"
        }
      ],
      "source": [
        "dir({})"
      ]
    },
    {
      "cell_type": "code",
      "execution_count": 42,
      "metadata": {
        "colab": {
          "base_uri": "https://localhost:8080/"
        },
        "id": "hjIaPkfXfp1T",
        "outputId": "76c37486-f500-49e0-c03c-5ad2cd3c5257"
      },
      "outputs": [
        {
          "data": {
            "text/plain": [
              "{'Nombres': ['Miguel', 'Fernando', 'Juan'],\n",
              " 'Apellidos': ['Camargo', 'Flores', 'Jiménez'],\n",
              " 'Edad': [28, 20, 30]}"
            ]
          },
          "execution_count": 42,
          "metadata": {},
          "output_type": "execute_result"
        }
      ],
      "source": [
        "diccionario2"
      ]
    },
    {
      "cell_type": "code",
      "execution_count": 43,
      "metadata": {
        "colab": {
          "base_uri": "https://localhost:8080/"
        },
        "id": "IYgHssqBfvw2",
        "outputId": "369aa252-2f34-47fb-9af7-a5f638bd6025"
      },
      "outputs": [
        {
          "data": {
            "text/plain": [
              "dict_values([['Miguel', 'Fernando', 'Juan'], ['Camargo', 'Flores', 'Jiménez'], [28, 20, 30]])"
            ]
          },
          "execution_count": 43,
          "metadata": {},
          "output_type": "execute_result"
        }
      ],
      "source": [
        "diccionario2.values()"
      ]
    },
    {
      "cell_type": "code",
      "execution_count": 44,
      "metadata": {
        "colab": {
          "base_uri": "https://localhost:8080/"
        },
        "id": "i5DKLFFyfyCm",
        "outputId": "f162361e-ae40-4cbb-f78e-aad122a89156"
      },
      "outputs": [
        {
          "data": {
            "text/plain": [
              "dict_keys(['Nombres', 'Apellidos', 'Edad'])"
            ]
          },
          "execution_count": 44,
          "metadata": {},
          "output_type": "execute_result"
        }
      ],
      "source": [
        "diccionario2.keys()"
      ]
    },
    {
      "cell_type": "code",
      "execution_count": 45,
      "metadata": {
        "colab": {
          "base_uri": "https://localhost:8080/"
        },
        "id": "3sXFwTfWf5i3",
        "outputId": "ee918170-8c9c-406c-9eee-2d497375a290"
      },
      "outputs": [
        {
          "data": {
            "text/plain": [
              "dict_items([('Nombres', ['Miguel', 'Fernando', 'Juan']), ('Apellidos', ['Camargo', 'Flores', 'Jiménez']), ('Edad', [28, 20, 30])])"
            ]
          },
          "execution_count": 45,
          "metadata": {},
          "output_type": "execute_result"
        }
      ],
      "source": [
        "diccionario2.items()"
      ]
    },
    {
      "cell_type": "code",
      "execution_count": 46,
      "metadata": {
        "colab": {
          "base_uri": "https://localhost:8080/"
        },
        "id": "Cvo8EMiWf_f3",
        "outputId": "e6c950fe-d566-4f58-919d-25ca9d9a7865"
      },
      "outputs": [
        {
          "name": "stdout",
          "output_type": "stream",
          "text": [
            "La llave 'Nombres' tiene el siguiente valor agreagado: ['Miguel', 'Fernando', 'Juan']\n",
            "La llave 'Apellidos' tiene el siguiente valor agreagado: ['Camargo', 'Flores', 'Jiménez']\n",
            "La llave 'Edad' tiene el siguiente valor agreagado: [28, 20, 30]\n"
          ]
        }
      ],
      "source": [
        "for key, value in diccionario2.items():\n",
        "  print(f\"La llave '{key}' tiene el siguiente valor agreagado: {value}\")"
      ]
    },
    {
      "cell_type": "code",
      "execution_count": null,
      "metadata": {
        "id": "Ys16VjRtgTjF"
      },
      "outputs": [],
      "source": []
    }
  ],
  "metadata": {
    "colab": {
      "provenance": []
    },
    "kernelspec": {
      "display_name": "NLP25",
      "language": "python",
      "name": "python3"
    },
    "language_info": {
      "codemirror_mode": {
        "name": "ipython",
        "version": 3
      },
      "file_extension": ".py",
      "mimetype": "text/x-python",
      "name": "python",
      "nbconvert_exporter": "python",
      "pygments_lexer": "ipython3",
      "version": "3.13.5"
    }
  },
  "nbformat": 4,
  "nbformat_minor": 0
}
