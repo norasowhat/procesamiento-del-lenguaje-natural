{
 "cells": [
  {
   "cell_type": "markdown",
   "id": "b9342477",
   "metadata": {},
   "source": [
    "-----------------------------------------------------------\n",
    "N-grams"
   ]
  },
  {
   "cell_type": "markdown",
   "id": "e36e33ca",
   "metadata": {},
   "source": [
    "librerías: Se utiliza bigrams para los bigramas y trigrams para trigramas"
   ]
  },
  {
   "cell_type": "code",
   "execution_count": 7,
   "id": "2e7eba5b",
   "metadata": {},
   "outputs": [],
   "source": [
    "from nltk import bigrams, trigrams"
   ]
  },
  {
   "cell_type": "markdown",
   "id": "d25f92f6",
   "metadata": {},
   "source": [
    "se necesita una review: "
   ]
  },
  {
   "cell_type": "code",
   "execution_count": 1,
   "id": "a04985b4",
   "metadata": {},
   "outputs": [],
   "source": [
    "review = \"I hate this movie. It's absolutely boring.\""
   ]
  },
  {
   "cell_type": "markdown",
   "id": "1f58d239",
   "metadata": {},
   "source": [
    "se limpia el review pasándolo a minúsuclas y re"
   ]
  },
  {
   "cell_type": "code",
   "execution_count": 2,
   "id": "c1a4b7f0",
   "metadata": {},
   "outputs": [],
   "source": [
    "import re\n",
    "\n",
    "review_lower = review.lower()\n",
    "review_clean = re.sub(r\"\\W+\", \" \", review_lower)"
   ]
  },
  {
   "cell_type": "markdown",
   "id": "03c2cfab",
   "metadata": {},
   "source": [
    "luego se tokeniza"
   ]
  },
  {
   "cell_type": "code",
   "execution_count": 5,
   "id": "ed9e150e",
   "metadata": {},
   "outputs": [
    {
     "data": {
      "text/plain": [
       "['i', 'hate', 'this', 'movie', 'it', 's', 'absolutely', 'boring']"
      ]
     },
     "execution_count": 5,
     "metadata": {},
     "output_type": "execute_result"
    }
   ],
   "source": [
    "from nltk import word_tokenize\n",
    "\n",
    "tokens_limpios = word_tokenize(review_clean)\n",
    "tokens_limpios"
   ]
  },
  {
   "cell_type": "markdown",
   "id": "e720e2ff",
   "metadata": {},
   "source": [
    "bigramas y trigramas a partir de la lista de tokens limpios:"
   ]
  },
  {
   "cell_type": "code",
   "execution_count": 9,
   "id": "3bed6a1e",
   "metadata": {},
   "outputs": [
    {
     "data": {
      "text/plain": [
       "[('i', 'hate'),\n",
       " ('hate', 'this'),\n",
       " ('this', 'movie'),\n",
       " ('movie', 'it'),\n",
       " ('it', 's'),\n",
       " ('s', 'absolutely'),\n",
       " ('absolutely', 'boring')]"
      ]
     },
     "execution_count": 9,
     "metadata": {},
     "output_type": "execute_result"
    }
   ],
   "source": [
    "list(bigrams(tokens_limpios))\n"
   ]
  },
  {
   "cell_type": "code",
   "execution_count": 10,
   "id": "54e1d41c",
   "metadata": {},
   "outputs": [
    {
     "data": {
      "text/plain": [
       "[('i', 'hate', 'this'),\n",
       " ('hate', 'this', 'movie'),\n",
       " ('this', 'movie', 'it'),\n",
       " ('movie', 'it', 's'),\n",
       " ('it', 's', 'absolutely'),\n",
       " ('s', 'absolutely', 'boring')]"
      ]
     },
     "execution_count": 10,
     "metadata": {},
     "output_type": "execute_result"
    }
   ],
   "source": [
    "list(trigrams(tokens_limpios))"
   ]
  },
  {
   "cell_type": "markdown",
   "id": "e8fb36fb",
   "metadata": {},
   "source": [
    "otra forma de hacer bigrama o trigrama:"
   ]
  },
  {
   "cell_type": "code",
   "execution_count": 11,
   "id": "6ce2812a",
   "metadata": {},
   "outputs": [
    {
     "data": {
      "text/plain": [
       "[('i', 'hate'),\n",
       " ('hate', 'this'),\n",
       " ('this', 'movie'),\n",
       " ('movie', 'it'),\n",
       " ('it', 's'),\n",
       " ('s', 'absolutely'),\n",
       " ('absolutely', 'boring')]"
      ]
     },
     "execution_count": 11,
     "metadata": {},
     "output_type": "execute_result"
    }
   ],
   "source": [
    "from nltk import ngrams\n",
    "\n",
    "list(ngrams(tokens_limpios, 2))"
   ]
  }
 ],
 "metadata": {
  "kernelspec": {
   "display_name": "NLP25",
   "language": "python",
   "name": "python3"
  },
  "language_info": {
   "codemirror_mode": {
    "name": "ipython",
    "version": 3
   },
   "file_extension": ".py",
   "mimetype": "text/x-python",
   "name": "python",
   "nbconvert_exporter": "python",
   "pygments_lexer": "ipython3",
   "version": "3.13.6"
  }
 },
 "nbformat": 4,
 "nbformat_minor": 5
}
